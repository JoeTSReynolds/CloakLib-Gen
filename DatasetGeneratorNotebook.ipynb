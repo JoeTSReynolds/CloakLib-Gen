{
 "cells": [
  {
   "cell_type": "markdown",
   "id": "237759e6",
   "metadata": {},
   "source": [
    "### **How To Use**\n",
    "\n",
    "\n",
    "Upload folder of images in same folder as dataset_generator.py\n",
    "\n",
    "Set up the variables accordingly below, depending on the features of the folder of data:"
   ]
  },
  {
   "cell_type": "code",
   "execution_count": null,
   "id": "cc380bb5",
   "metadata": {},
   "outputs": [],
   "source": [
    "age = None #Options: 'U13', 'Teen', 'Adult', 'Above60'\n",
    "expression = None #Options: 'Smiling', 'Neutral', 'Other'\n",
    "gender = None #Options: 'M', 'F', 'Other'\n",
    "groups = None #Options: Multiple, Single\n",
    "obstructed = None #Options: WithObstruction, NoObstruction\n",
    "\n",
    "assert (age in ['U13', 'Teen', 'Adult', 'Above60', None])\n",
    "assert (expression in ['Smiling', 'Neutral', 'Other', None])\n",
    "assert (gender in ['M', 'F', 'Other', None])\n",
    "assert (groups in ['Multiple', 'Single', None])\n",
    "assert (obstructed in ['WithObstruction', 'NoObstruction', None])"
   ]
  },
  {
   "cell_type": "markdown",
   "id": "5b18169c",
   "metadata": {},
   "source": [
    "### **Cloaking the files**\n",
    "\n",
    "Change the following cell to have the name of your folder of data.\n",
    "Run the cell to cloak the images."
   ]
  },
  {
   "cell_type": "code",
   "execution_count": null,
   "id": "bb6dfe8d",
   "metadata": {},
   "outputs": [],
   "source": [
    "import dataset_generator\n",
    "\n",
    "dataset_generator.cloak_folder('folder_name', age, expression, gender, groups, obstructed, cloaking_mode='high', parent_directory=False)"
   ]
  }
 ],
 "metadata": {
  "kernelspec": {
   "display_name": "Python 3",
   "language": "python",
   "name": "python3"
  },
  "language_info": {
   "name": "python",
   "version": "3.6.15"
  }
 },
 "nbformat": 4,
 "nbformat_minor": 5
}
