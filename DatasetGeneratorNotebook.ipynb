{
 "cells": [
  {
   "cell_type": "markdown",
   "id": "ca2e3a3b",
   "metadata": {},
   "source": [
    "# **Setup**\n",
    "This notebook is to be run in colab.\n",
    "\n",
    "Run this cell to set up the workspace, downloading necessary dependencies.\n",
    "Make sure you are using python 3.6 or 3.5 in this colab workspace.\n",
    "\n",
    "Make sure after these commands are run, the python version outputted is 3.6 or 3.5\n",
    "Once confirmed, restart the run time."
   ]
  },
  {
   "cell_type": "code",
   "execution_count": null,
   "id": "f6959237",
   "metadata": {},
   "outputs": [],
   "source": [
    "!python --version"
   ]
  },
  {
   "cell_type": "code",
   "execution_count": null,
   "id": "2005713e",
   "metadata": {},
   "outputs": [],
   "source": [
    "import sys\n",
    "\n",
    "!wget -O mini.sh https://repo.anaconda.com/miniconda/Miniconda-3.7.0-Linux-x86_64.sh\n",
    "!chmod +x mini.sh\n",
    "!bash ./mini.sh -b -f -p /usr/local\n",
    "# Add Miniconda to PATH\n",
    "sys.path.append('/usr/local/lib/python3.7/site-packages')\n",
    "!export PATH=\"/usr/local/bin:$PATH\"\n",
    "\n",
    "# Create a new conda environment with Python 3.6\n",
    "!conda create -y -n py36 python=3.6\n",
    "\n",
    "# Activate the environment\n",
    "!source activate py36\n",
    "\n",
    "# Verify Python version\n",
    "!python --version\n"
   ]
  },
  {
   "cell_type": "markdown",
   "id": "eba70d76",
   "metadata": {},
   "source": [
    "Once python 3.6 venv is running run the below command to install requirements"
   ]
  },
  {
   "cell_type": "code",
   "execution_count": null,
   "id": "c0980fe8",
   "metadata": {
    "vscode": {
     "languageId": "markdown"
    }
   },
   "outputs": [],
   "source": [
    "!git clone https://github.com/JoeTSReynolds/CloakLib-Gen.git/colab_app\n",
    "!pip install -r CloakLib-Gen/requirements.txt\n",
    "!cd CloakLib-Gen"
   ]
  },
  {
   "cell_type": "markdown",
   "id": "5b18169c",
   "metadata": {},
   "source": [
    "# **Using the dataset generator**\n",
    "First, upload a folder of images or videos you want to process (or a single file). If you want to cloak them\n",
    "Change the following cell to have the name of your folder of data.\n",
    "Run the cell to cloak the images.\n",
    "\n",
    "`python3 dataset_generator.py <flags>`\n",
    "\n",
    "### **Usage:**\n",
    "\n",
    "One of these modes (necessary)  <br>\n",
    "--cloak - cloak mode  <br>\n",
    "--classify - classify mode  <br>\n",
    "\n",
    "### **Cloak mode flags**\n",
    "\n",
    "--threads <number> - the number of threads to use - default is 1  <br>\n",
    "--batch_size <number> - the amount of files fawkes will process per batch - default is 10  <br>\n",
    "--mode <low/mid/high> - the level of cloaking to apply to the files - default is mid  <br>\n",
    "\n",
    "### **Classify mode flags**\n",
    "\n",
    "Run these flags on their own.  <br>\n",
    "--list - list the files that require classification or naming  <br>\n",
    "--sync - sync the JSON file with the actual dataset, and perform a health check. Good to do before use of other commands.  <br>\n",
    "--check - perform a health check on the dataset, flagging any issues with missing files or links between original and cloaked files.  <br>\n",
    "\n",
    "### **Flags for classifying files**\n",
    "\n",
    "These can be used in both modes. For classifying files in --classify mode the cloaked versions must exist already (in the same folder).  <br>\n",
    "--name <name> - the name of the person in the file(s). Must be plaintext separated by underscores. E.g. Bella_Ramsey  <br>\n",
    "--age <Above60/Adult/Teen/U13> - the age of the person in the file(s).  <br>\n",
    "--expression <Neutral/Other/Smiling> - the expression of the person in the file(s)  <br>\n",
    "--gender <M/F/Other> - the gender of the person in the file(s)  <br>\n",
    "--group <Single/Multiple> - whether there is only one person or multiple people in the file(s)  <br>\n",
    "--obstruction <NoObstruction/WithObstruction> - whether the person in the file(s) has their face obstructed (partially) or not  <br>\n",
    "--race <Black/White/Brown/East Asian/Other> - the race of the person in the file(s)\n",
    "\n",
    "\n",
    "### **Other Flags**\n",
    "\n",
    "These can be used in both modes.  <br>\n",
    "--dir - set this flag to change the input mode to a folder or images/videos instead of a single image or video\n",
    "\n",
    "\n",
    "### **Examples**\n",
    "`python3 dataset_generator.py --cloak --mode low --dir /path/to/folder/to/cloak`  <br>\n",
    "`python3 dataset_generator.py --classify --name John_Doe --age Adult CloakingLibrary/Unsorted/john_doe.jpg`\n"
   ]
  },
  {
   "cell_type": "code",
   "execution_count": null,
   "id": "bb6dfe8d",
   "metadata": {},
   "outputs": [],
   "source": [
    "!python3 dataset_generator.py --cloak --mode low --dir ./images"
   ]
  }
 ],
 "metadata": {
  "kernelspec": {
   "display_name": "Python 3",
   "language": "python",
   "name": "python3"
  },
  "language_info": {
   "name": "python",
   "version": "3.6.15"
  }
 },
 "nbformat": 4,
 "nbformat_minor": 5
}
